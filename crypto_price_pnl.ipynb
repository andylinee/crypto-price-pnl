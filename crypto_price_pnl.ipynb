{
  "nbformat": 4,
  "nbformat_minor": 0,
  "metadata": {
    "colab": {
      "name": "Grenade_PnL_notebook.ipynb",
      "provenance": [],
      "toc_visible": true
    },
    "kernelspec": {
      "name": "python3",
      "display_name": "Python 3"
    },
    "language_info": {
      "name": "python"
    }
  },
  "cells": [
    {
      "cell_type": "markdown",
      "metadata": {
        "id": "2qSJE618mOeZ"
      },
      "source": [
        "# Initial settings"
      ]
    },
    {
      "cell_type": "code",
      "metadata": {
        "id": "RM_i1flSjbse",
        "colab": {
          "base_uri": "https://localhost:8080/"
        },
        "outputId": "ba741427-b3f2-4dbc-c43f-a067cc637c8b"
      },
      "source": [
        "!pip install pycoingecko"
      ],
      "execution_count": 1,
      "outputs": [
        {
          "output_type": "stream",
          "text": [
            "Collecting pycoingecko\n",
            "  Downloading https://files.pythonhosted.org/packages/82/6f/9e9d1d72a3082dffc891a67cc78c950d43b62fe8fda4d53091ff56c6b127/pycoingecko-2.2.0-py3-none-any.whl\n",
            "Requirement already satisfied: requests in /usr/local/lib/python3.7/dist-packages (from pycoingecko) (2.23.0)\n",
            "Requirement already satisfied: certifi>=2017.4.17 in /usr/local/lib/python3.7/dist-packages (from requests->pycoingecko) (2021.5.30)\n",
            "Requirement already satisfied: idna<3,>=2.5 in /usr/local/lib/python3.7/dist-packages (from requests->pycoingecko) (2.10)\n",
            "Requirement already satisfied: chardet<4,>=3.0.2 in /usr/local/lib/python3.7/dist-packages (from requests->pycoingecko) (3.0.4)\n",
            "Requirement already satisfied: urllib3!=1.25.0,!=1.25.1,<1.26,>=1.21.1 in /usr/local/lib/python3.7/dist-packages (from requests->pycoingecko) (1.24.3)\n",
            "Installing collected packages: pycoingecko\n",
            "Successfully installed pycoingecko-2.2.0\n"
          ],
          "name": "stdout"
        }
      ]
    },
    {
      "cell_type": "code",
      "metadata": {
        "id": "IiqWlkD_mLPv"
      },
      "source": [
        "# Import packages\n",
        "from pycoingecko import CoinGeckoAPI\n",
        "import pandas as pd\n",
        "import datetime"
      ],
      "execution_count": 25,
      "outputs": []
    },
    {
      "cell_type": "markdown",
      "metadata": {
        "id": "SEhxFni6n8Hz"
      },
      "source": [
        "# Token list settings\n",
        "- 可以建好多個字典，如「公鏈」、「SBF 全家桶」、「波卡生態」、「NFT 系列」等"
      ]
    },
    {
      "cell_type": "code",
      "metadata": {
        "id": "dCs6ZJSDmR1z"
      },
      "source": [
        "# Set the token list\n",
        "token_list = ['ethereum', 'binancecoin', 'cardano', 'polkadot', 'solana', 'cosmos', 'avalanche-2', 'algorand', 'fantom', 'near']\n",
        "SBF_list = ['ftx-token', 'serum', 'solana', 'bonfida', 'maps', 'raydium', 'oxygen', 'sushi']\n",
        "platform_list = ['binancecoin', 'ftx-token', 'okb', 'huobi-token']"
      ],
      "execution_count": 18,
      "outputs": []
    },
    {
      "cell_type": "markdown",
      "metadata": {
        "id": "8BBo15OSowsv"
      },
      "source": [
        "# Calculating price\n",
        "- 初始設定為 24HR, 7日, 30日 的漲幅變化，可調整 `n_day` 來設定"
      ]
    },
    {
      "cell_type": "code",
      "metadata": {
        "colab": {
          "base_uri": "https://localhost:8080/",
          "height": 277
        },
        "id": "xN3wgQVDoplj",
        "outputId": "bed4c921-a4b7-4c3d-b8b7-b18d5c818a60"
      },
      "source": [
        "# CoinGecko API client\n",
        "cg = CoinGeckoAPI()\n",
        "\n",
        "# Set the dataframe\n",
        "column = pd.DataFrame(columns=['項目名稱', '市值排名', '代幣價格', '24HR', '7日', '30日'])\n",
        "\n",
        "# Set the time of 1st day, 7th day, 30th day\n",
        "n_day = 30\n",
        "start = datetime.timedelta(days=n_day)\n",
        "day_1= (datetime.datetime.now() - start).strftime(\"%d-%m-%Y\") #first-day price\n",
        "day_last_7 =(datetime.datetime.now() - datetime.timedelta(days=7)).strftime(\"%d-%m-%Y\") #last-one-day price\n",
        "day_last_1 = (datetime.datetime.now() - datetime.timedelta(days=1)).strftime(\"%d-%m-%Y\") #last-one-day price\n",
        "day_last = datetime.datetime.now().strftime(\"%d-%m-%Y\") #last-day price\n",
        "\n",
        "# Calculate price and PnL\n",
        "for i in range(len(SBF_list)):\n",
        "  values = list()\n",
        "  values.append(token_list[i])\n",
        "  day_last_price = cg.get_coin_history_by_id(id=token_list[i], date=day_last)['market_data']['current_price']['usd']\n",
        "  day_last1_price = cg.get_coin_history_by_id(id=token_list[i], date=day_last_1)['market_data']['current_price']['usd']\n",
        "  day_last7_price = cg.get_coin_history_by_id(id=token_list[i], date=day_last_7)['market_data']['current_price']['usd']\n",
        "  day_1_price = cg.get_coin_history_by_id(id=token_list[i], date=day_1)['market_data']['current_price']['usd']\n",
        "  pnl_1 = (day_last_price - day_last1_price)/day_last1_price * 100\n",
        "  pnl_7 = (day_last_price - day_last7_price)/day_last1_price * 100\n",
        "  pnl_long = (day_last_price - day_1_price)/day_1_price * 100\n",
        "  market_cap_rank = cg.get_coin_by_id(token_list[i])['market_cap_rank']\n",
        "  values.append(market_cap_rank)\n",
        "  values.append(\"{0:.2f}\".format(day_last_price))\n",
        "  values.append(\"{0:.2f}%\".format(pnl_1, 2))\n",
        "  values.append(\"{0:.2f}%\".format(pnl_7, 2))\n",
        "  values.append(\"{0:.2f}%\".format(pnl_long, 2))\n",
        "  column.loc[i] = values\n",
        "\n",
        "# Sort the table by Marketcap\n",
        "column.sort_values(by='市值排名', ascending=True)"
      ],
      "execution_count": 26,
      "outputs": [
        {
          "output_type": "execute_result",
          "data": {
            "text/html": [
              "<div>\n",
              "<style scoped>\n",
              "    .dataframe tbody tr th:only-of-type {\n",
              "        vertical-align: middle;\n",
              "    }\n",
              "\n",
              "    .dataframe tbody tr th {\n",
              "        vertical-align: top;\n",
              "    }\n",
              "\n",
              "    .dataframe thead th {\n",
              "        text-align: right;\n",
              "    }\n",
              "</style>\n",
              "<table border=\"1\" class=\"dataframe\">\n",
              "  <thead>\n",
              "    <tr style=\"text-align: right;\">\n",
              "      <th></th>\n",
              "      <th>項目名稱</th>\n",
              "      <th>市值排名</th>\n",
              "      <th>代幣價格</th>\n",
              "      <th>24HR</th>\n",
              "      <th>7日</th>\n",
              "      <th>30日</th>\n",
              "    </tr>\n",
              "  </thead>\n",
              "  <tbody>\n",
              "    <tr>\n",
              "      <th>0</th>\n",
              "      <td>ethereum</td>\n",
              "      <td>2</td>\n",
              "      <td>1971.11</td>\n",
              "      <td>5.11%</td>\n",
              "      <td>-21.05%</td>\n",
              "      <td>-25.34%</td>\n",
              "    </tr>\n",
              "    <tr>\n",
              "      <th>1</th>\n",
              "      <td>binancecoin</td>\n",
              "      <td>4</td>\n",
              "      <td>296.13</td>\n",
              "      <td>13.27%</td>\n",
              "      <td>-19.24%</td>\n",
              "      <td>-13.80%</td>\n",
              "    </tr>\n",
              "    <tr>\n",
              "      <th>2</th>\n",
              "      <td>cardano</td>\n",
              "      <td>5</td>\n",
              "      <td>1.25</td>\n",
              "      <td>8.74%</td>\n",
              "      <td>-20.15%</td>\n",
              "      <td>-19.10%</td>\n",
              "    </tr>\n",
              "    <tr>\n",
              "      <th>3</th>\n",
              "      <td>polkadot</td>\n",
              "      <td>9</td>\n",
              "      <td>15.86</td>\n",
              "      <td>8.43%</td>\n",
              "      <td>-47.67%</td>\n",
              "      <td>-31.24%</td>\n",
              "    </tr>\n",
              "    <tr>\n",
              "      <th>4</th>\n",
              "      <td>solana</td>\n",
              "      <td>14</td>\n",
              "      <td>30.88</td>\n",
              "      <td>15.53%</td>\n",
              "      <td>-32.43%</td>\n",
              "      <td>-0.34%</td>\n",
              "    </tr>\n",
              "    <tr>\n",
              "      <th>7</th>\n",
              "      <td>algorand</td>\n",
              "      <td>35</td>\n",
              "      <td>0.83</td>\n",
              "      <td>12.15%</td>\n",
              "      <td>-23.88%</td>\n",
              "      <td>-14.35%</td>\n",
              "    </tr>\n",
              "    <tr>\n",
              "      <th>5</th>\n",
              "      <td>cosmos</td>\n",
              "      <td>44</td>\n",
              "      <td>9.64</td>\n",
              "      <td>8.07%</td>\n",
              "      <td>-40.61%</td>\n",
              "      <td>-32.68%</td>\n",
              "    </tr>\n",
              "    <tr>\n",
              "      <th>6</th>\n",
              "      <td>avalanche-2</td>\n",
              "      <td>50</td>\n",
              "      <td>11.44</td>\n",
              "      <td>8.37%</td>\n",
              "      <td>-24.36%</td>\n",
              "      <td>-40.87%</td>\n",
              "    </tr>\n",
              "  </tbody>\n",
              "</table>\n",
              "</div>"
            ],
            "text/plain": [
              "          項目名稱 市值排名     代幣價格    24HR       7日      30日\n",
              "0     ethereum    2  1971.11   5.11%  -21.05%  -25.34%\n",
              "1  binancecoin    4   296.13  13.27%  -19.24%  -13.80%\n",
              "2      cardano    5     1.25   8.74%  -20.15%  -19.10%\n",
              "3     polkadot    9    15.86   8.43%  -47.67%  -31.24%\n",
              "4       solana   14    30.88  15.53%  -32.43%   -0.34%\n",
              "7     algorand   35     0.83  12.15%  -23.88%  -14.35%\n",
              "5       cosmos   44     9.64   8.07%  -40.61%  -32.68%\n",
              "6  avalanche-2   50    11.44   8.37%  -24.36%  -40.87%"
            ]
          },
          "metadata": {
            "tags": []
          },
          "execution_count": 26
        }
      ]
    },
    {
      "cell_type": "markdown",
      "metadata": {
        "id": "fwLAPISaw3aO"
      },
      "source": [
        "# Write the results to csv file\n",
        "- 將上方表格存成 csv 檔，可於左側檔案區按右鍵下載"
      ]
    },
    {
      "cell_type": "code",
      "metadata": {
        "id": "uMeawpaQrK4T"
      },
      "source": [
        "column.to_csv(\"crypto_pnl.csv\")"
      ],
      "execution_count": 27,
      "outputs": []
    },
    {
      "cell_type": "code",
      "metadata": {
        "id": "V3lPYflZxUal"
      },
      "source": [
        ""
      ],
      "execution_count": null,
      "outputs": []
    }
  ]
}