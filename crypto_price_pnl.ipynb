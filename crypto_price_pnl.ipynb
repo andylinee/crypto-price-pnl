{
  "nbformat": 4,
  "nbformat_minor": 0,
  "metadata": {
    "colab": {
      "name": "Grenade_PnL_notebook.ipynb",
      "provenance": [],
      "toc_visible": true
    },
    "kernelspec": {
      "name": "python3",
      "display_name": "Python 3"
    },
    "language_info": {
      "name": "python"
    }
  },
  "cells": [
    {
      "cell_type": "markdown",
      "metadata": {
        "id": "2qSJE618mOeZ"
      },
      "source": [
        "# 初始設定 (每次都要執行)"
      ]
    },
    {
      "cell_type": "code",
      "metadata": {
        "id": "RM_i1flSjbse",
        "colab": {
          "base_uri": "https://localhost:8080/"
        },
        "outputId": "89a1acac-aff4-4726-e7e4-a25b7fd3ada2"
      },
      "source": [
        "!pip install pycoingecko"
      ],
      "execution_count": null,
      "outputs": [
        {
          "output_type": "stream",
          "text": [
            "Collecting pycoingecko\n",
            "  Downloading https://files.pythonhosted.org/packages/42/34/e953751a2786273cf7ad2b144d34f2ba321885a1d0515de2c2ad19b8d25e/pycoingecko-2.0.0-py3-none-any.whl\n",
            "Requirement already satisfied: requests in /usr/local/lib/python3.7/dist-packages (from pycoingecko) (2.23.0)\n",
            "Requirement already satisfied: certifi>=2017.4.17 in /usr/local/lib/python3.7/dist-packages (from requests->pycoingecko) (2020.12.5)\n",
            "Requirement already satisfied: urllib3!=1.25.0,!=1.25.1,<1.26,>=1.21.1 in /usr/local/lib/python3.7/dist-packages (from requests->pycoingecko) (1.24.3)\n",
            "Requirement already satisfied: chardet<4,>=3.0.2 in /usr/local/lib/python3.7/dist-packages (from requests->pycoingecko) (3.0.4)\n",
            "Requirement already satisfied: idna<3,>=2.5 in /usr/local/lib/python3.7/dist-packages (from requests->pycoingecko) (2.10)\n",
            "Installing collected packages: pycoingecko\n",
            "Successfully installed pycoingecko-2.0.0\n"
          ],
          "name": "stdout"
        }
      ]
    },
    {
      "cell_type": "code",
      "metadata": {
        "id": "IiqWlkD_mLPv"
      },
      "source": [
        "# Import packages\n",
        "from pycoingecko import CoinGeckoAPI\n",
        "import pandas as pd\n",
        "import datetime\n",
        "\n",
        "# CoinGecko API client\n",
        "cg = CoinGeckoAPI()\n",
        "\n",
        "# Set the dataframe\n",
        "column = pd.DataFrame(columns=['項目名稱', '市值排名', '代幣價格', '24HR', '30日'])"
      ],
      "execution_count": null,
      "outputs": []
    },
    {
      "cell_type": "markdown",
      "metadata": {
        "id": "SEhxFni6n8Hz"
      },
      "source": [
        "# 項目名稱設定\n",
        "- 可以建好多個字典，如「公鏈」、「SBF 全家桶」、「波卡生態」、「NFT 系列」等"
      ]
    },
    {
      "cell_type": "code",
      "metadata": {
        "id": "dCs6ZJSDmR1z"
      },
      "source": [
        "# Set the token list\n",
        "token_list = ['ethereum', 'binancecoin', 'cardano', 'polkadot', 'solana', 'cosmos', 'avalanche-2', 'algorand', 'fantom', 'near']"
      ],
      "execution_count": null,
      "outputs": []
    },
    {
      "cell_type": "markdown",
      "metadata": {
        "id": "8BBo15OSowsv"
      },
      "source": [
        "# 計算價格\n",
        "- 初始設定為 24HR 與 30日 的漲幅變化，可調整 `n_day` 來設定"
      ]
    },
    {
      "cell_type": "code",
      "metadata": {
        "colab": {
          "base_uri": "https://localhost:8080/",
          "height": 335
        },
        "id": "xN3wgQVDoplj",
        "outputId": "71777db8-fab3-4761-8195-dcfab5e86171"
      },
      "source": [
        "n_day = 30\n",
        "start = datetime.timedelta(days=n_day)\n",
        "day_1= (datetime.datetime.now() - start).strftime(\"%d-%m-%Y\") #first-day price\n",
        "day_last_1 = (datetime.datetime.now() - datetime.timedelta(days=1)).strftime(\"%d-%m-%Y\") #last-one-day price\n",
        "day_last = datetime.datetime.now().strftime(\"%d-%m-%Y\") #last-day price\n",
        "\n",
        "for i in range(len(token_list)):\n",
        "  values = list()\n",
        "  values.append(token_list[i])\n",
        "  day_last_price = cg.get_coin_history_by_id(id=token_list[i], date=day_last)['market_data']['current_price']['usd']\n",
        "  day_last1_price = cg.get_coin_history_by_id(id=token_list[i], date=day_last_1)['market_data']['current_price']['usd']\n",
        "  day_1_price = cg.get_coin_history_by_id(id=token_list[i], date=day_1)['market_data']['current_price']['usd']\n",
        "  pnl_1 = (day_last_price - day_last1_price)/day_last1_price * 100\n",
        "  pnl_long = (day_last_price - day_1_price)/day_1_price * 100\n",
        "  market_cap_rank = cg.get_coin_by_id(token_list[i])['market_cap_rank']\n",
        "  values.append(market_cap_rank)\n",
        "  values.append(round(day_last_price, 2))\n",
        "  values.append(round(pnl_1, 2))\n",
        "  values.append(round(pnl_long, 2))\n",
        "  column.loc[i] = values\n",
        "\n",
        "column.sort_values(by='30日', ascending=False)"
      ],
      "execution_count": null,
      "outputs": [
        {
          "output_type": "execute_result",
          "data": {
            "text/html": [
              "<div>\n",
              "<style scoped>\n",
              "    .dataframe tbody tr th:only-of-type {\n",
              "        vertical-align: middle;\n",
              "    }\n",
              "\n",
              "    .dataframe tbody tr th {\n",
              "        vertical-align: top;\n",
              "    }\n",
              "\n",
              "    .dataframe thead th {\n",
              "        text-align: right;\n",
              "    }\n",
              "</style>\n",
              "<table border=\"1\" class=\"dataframe\">\n",
              "  <thead>\n",
              "    <tr style=\"text-align: right;\">\n",
              "      <th></th>\n",
              "      <th>項目名稱</th>\n",
              "      <th>市值排名</th>\n",
              "      <th>代幣價格</th>\n",
              "      <th>24HR</th>\n",
              "      <th>30日</th>\n",
              "    </tr>\n",
              "  </thead>\n",
              "  <tbody>\n",
              "    <tr>\n",
              "      <th>4</th>\n",
              "      <td>solana</td>\n",
              "      <td>16</td>\n",
              "      <td>42.70</td>\n",
              "      <td>-7.35</td>\n",
              "      <td>77.76</td>\n",
              "    </tr>\n",
              "    <tr>\n",
              "      <th>1</th>\n",
              "      <td>binancecoin</td>\n",
              "      <td>3</td>\n",
              "      <td>608.63</td>\n",
              "      <td>-9.85</td>\n",
              "      <td>74.37</td>\n",
              "    </tr>\n",
              "    <tr>\n",
              "      <th>8</th>\n",
              "      <td>fantom</td>\n",
              "      <td>70</td>\n",
              "      <td>0.65</td>\n",
              "      <td>-8.19</td>\n",
              "      <td>59.70</td>\n",
              "    </tr>\n",
              "    <tr>\n",
              "      <th>0</th>\n",
              "      <td>ethereum</td>\n",
              "      <td>2</td>\n",
              "      <td>3245.66</td>\n",
              "      <td>-5.65</td>\n",
              "      <td>56.21</td>\n",
              "    </tr>\n",
              "    <tr>\n",
              "      <th>2</th>\n",
              "      <td>cardano</td>\n",
              "      <td>7</td>\n",
              "      <td>1.28</td>\n",
              "      <td>-5.97</td>\n",
              "      <td>7.99</td>\n",
              "    </tr>\n",
              "    <tr>\n",
              "      <th>6</th>\n",
              "      <td>avalanche-2</td>\n",
              "      <td>44</td>\n",
              "      <td>30.48</td>\n",
              "      <td>-15.39</td>\n",
              "      <td>4.17</td>\n",
              "    </tr>\n",
              "    <tr>\n",
              "      <th>7</th>\n",
              "      <td>algorand</td>\n",
              "      <td>45</td>\n",
              "      <td>1.29</td>\n",
              "      <td>-10.56</td>\n",
              "      <td>-1.53</td>\n",
              "    </tr>\n",
              "    <tr>\n",
              "      <th>5</th>\n",
              "      <td>cosmos</td>\n",
              "      <td>32</td>\n",
              "      <td>21.07</td>\n",
              "      <td>-8.53</td>\n",
              "      <td>-2.48</td>\n",
              "    </tr>\n",
              "    <tr>\n",
              "      <th>9</th>\n",
              "      <td>near</td>\n",
              "      <td>75</td>\n",
              "      <td>4.80</td>\n",
              "      <td>-12.30</td>\n",
              "      <td>-20.55</td>\n",
              "    </tr>\n",
              "    <tr>\n",
              "      <th>3</th>\n",
              "      <td>polkadot</td>\n",
              "      <td>8</td>\n",
              "      <td>34.66</td>\n",
              "      <td>-7.10</td>\n",
              "      <td>-21.65</td>\n",
              "    </tr>\n",
              "  </tbody>\n",
              "</table>\n",
              "</div>"
            ],
            "text/plain": [
              "          項目名稱 市值排名     代幣價格   24HR    30日\n",
              "4       solana   16    42.70  -7.35  77.76\n",
              "1  binancecoin    3   608.63  -9.85  74.37\n",
              "8       fantom   70     0.65  -8.19  59.70\n",
              "0     ethereum    2  3245.66  -5.65  56.21\n",
              "2      cardano    7     1.28  -5.97   7.99\n",
              "6  avalanche-2   44    30.48 -15.39   4.17\n",
              "7     algorand   45     1.29 -10.56  -1.53\n",
              "5       cosmos   32    21.07  -8.53  -2.48\n",
              "9         near   75     4.80 -12.30 -20.55\n",
              "3     polkadot    8    34.66  -7.10 -21.65"
            ]
          },
          "metadata": {
            "tags": []
          },
          "execution_count": 4
        }
      ]
    },
    {
      "cell_type": "markdown",
      "metadata": {
        "id": "fwLAPISaw3aO"
      },
      "source": [
        "# 將結果寫成 CSV 檔\n",
        "- 將上方表格存成 csv 檔，可於左側檔案區按右鍵下載"
      ]
    },
    {
      "cell_type": "code",
      "metadata": {
        "id": "uMeawpaQrK4T"
      },
      "source": [
        "column.to_csv(\"public_chain_pnl.csv\")"
      ],
      "execution_count": null,
      "outputs": []
    },
    {
      "cell_type": "code",
      "metadata": {
        "id": "V3lPYflZxUal"
      },
      "source": [
        ""
      ],
      "execution_count": null,
      "outputs": []
    }
  ]
}