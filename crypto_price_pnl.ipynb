{
  "nbformat": 4,
  "nbformat_minor": 0,
  "metadata": {
    "colab": {
      "name": "crypto_price_pnl.ipynb",
      "provenance": []
    },
    "kernelspec": {
      "name": "python3",
      "display_name": "Python 3"
    }
  },
  "cells": [
    {
      "cell_type": "code",
      "metadata": {
        "colab": {
          "base_uri": "https://localhost:8080/"
        },
        "id": "4JQbYB5YAFnQ",
        "outputId": "c0d7d365-c1cd-4c9b-ed76-aa65d396fa95"
      },
      "source": [
        "!pip install pycoingecko"
      ],
      "execution_count": null,
      "outputs": [
        {
          "output_type": "stream",
          "text": [
            "Collecting pycoingecko\n",
            "  Downloading https://files.pythonhosted.org/packages/c0/00/602485d63ae5417e81db11f8d047a327ce37b71a26eabe03b40889a47222/pycoingecko-1.4.1-py3-none-any.whl\n",
            "Requirement already satisfied: requests in /usr/local/lib/python3.7/dist-packages (from pycoingecko) (2.23.0)\n",
            "Requirement already satisfied: idna<3,>=2.5 in /usr/local/lib/python3.7/dist-packages (from requests->pycoingecko) (2.10)\n",
            "Requirement already satisfied: chardet<4,>=3.0.2 in /usr/local/lib/python3.7/dist-packages (from requests->pycoingecko) (3.0.4)\n",
            "Requirement already satisfied: certifi>=2017.4.17 in /usr/local/lib/python3.7/dist-packages (from requests->pycoingecko) (2020.12.5)\n",
            "Requirement already satisfied: urllib3!=1.25.0,!=1.25.1,<1.26,>=1.21.1 in /usr/local/lib/python3.7/dist-packages (from requests->pycoingecko) (1.24.3)\n",
            "Installing collected packages: pycoingecko\n",
            "Successfully installed pycoingecko-1.4.1\n"
          ],
          "name": "stdout"
        }
      ]
    },
    {
      "cell_type": "markdown",
      "metadata": {
        "id": "_n70gaqyXCeb"
      },
      "source": [
        ""
      ]
    },
    {
      "cell_type": "code",
      "metadata": {
        "id": "w452RP18AMVP"
      },
      "source": [
        "from pycoingecko import CoinGeckoAPI\n",
        "cg = CoinGeckoAPI()"
      ],
      "execution_count": null,
      "outputs": []
    },
    {
      "cell_type": "code",
      "metadata": {
        "colab": {
          "base_uri": "https://localhost:8080/"
        },
        "id": "G4LJcKquASH8",
        "outputId": "28211515-dd20-4753-aa60-342dd2e57189"
      },
      "source": [
        "cg.get_price(ids='bitcoin', vs_currencies='usd')"
      ],
      "execution_count": null,
      "outputs": [
        {
          "output_type": "execute_result",
          "data": {
            "text/plain": [
              "{'bitcoin': {'usd': 55023}}"
            ]
          },
          "metadata": {
            "tags": []
          },
          "execution_count": 3
        }
      ]
    },
    {
      "cell_type": "code",
      "metadata": {
        "colab": {
          "base_uri": "https://localhost:8080/"
        },
        "id": "pbOWZFBXB7cj",
        "outputId": "2776f687-2aae-4e78-abd7-ca5d88709dd7"
      },
      "source": [
        "import datetime\n",
        "#import time\n",
        "\n",
        "#coin = \"near\"\n",
        "n_day = 7\n",
        "start = datetime.timedelta(days=n_day)\n",
        "begin = (datetime.datetime.now() - start).strftime(\"%d-%m-%Y\")\n",
        "end = datetime.datetime.now().strftime(\"%d-%m-%Y\")\n",
        "print(begin)\n",
        "print(end)"
      ],
      "execution_count": null,
      "outputs": [
        {
          "output_type": "stream",
          "text": [
            "15-04-2021\n",
            "22-04-2021\n"
          ],
          "name": "stdout"
        }
      ]
    },
    {
      "cell_type": "code",
      "metadata": {
        "id": "1HANznWPAUns",
        "colab": {
          "base_uri": "https://localhost:8080/"
        },
        "outputId": "53e6a6b9-8d47-446e-fd05-755364941d67"
      },
      "source": [
        "day30_price = cg.get_coin_history_by_id(id='fantom', date=end)['market_data']['current_price']['usd']\n",
        "day1_price = cg.get_coin_history_by_id(id='fantom', date=begin)['market_data']['current_price']['usd']\n",
        "pnl = (day30_price - day1_price)/day1_price * 100\n",
        "market_cap_rank = cg.get_coin_by_id('fantom')['market_cap_rank']\n",
        "\n",
        "print(\"Day 1 Price: \", round(day1_price, 2))\n",
        "print(\"Day 30 Price: \", round(day30_price, 2))\n",
        "print(\"Market Cap Rank: \", market_cap_rank)\n",
        "print(f\"30-Day PnL: {int(pnl)} %\")"
      ],
      "execution_count": null,
      "outputs": [
        {
          "output_type": "stream",
          "text": [
            "Day 1 Price:  0.07\n",
            "Day 30 Price:  0.6\n",
            "Market Cap Rank:  54\n",
            "30-Day PnL: 723 %\n"
          ],
          "name": "stdout"
        }
      ]
    },
    {
      "cell_type": "code",
      "metadata": {
        "id": "OKJMk_DtAqPN",
        "colab": {
          "base_uri": "https://localhost:8080/"
        },
        "outputId": "9acd7543-36ad-4b04-8836-2687f25564e5"
      },
      "source": [
        "pnl = (day30_btc - day1_btc)/day1_btc * 100\n",
        "print(f\"BTC PnL: {int(pnl)} %\")"
      ],
      "execution_count": null,
      "outputs": [
        {
          "output_type": "stream",
          "text": [
            "BTC PnL: 62 %\n"
          ],
          "name": "stdout"
        }
      ]
    },
    {
      "cell_type": "code",
      "metadata": {
        "id": "Rh8nKZ58H3vf"
      },
      "source": [
        "token_list = ['ethereum', 'binancecoin', 'cardano', 'polkadot', 'solana', 'cosmos', 'avalanche-2', 'algorand', 'fantom', 'near']"
      ],
      "execution_count": null,
      "outputs": []
    },
    {
      "cell_type": "code",
      "metadata": {
        "colab": {
          "base_uri": "https://localhost:8080/"
        },
        "id": "fdJt36ZBSBR_",
        "outputId": "4ff98217-2476-4a9f-e450-726d525b9f96"
      },
      "source": [
        "cg.get_coin_by_id(coin)['market_cap_rank']"
      ],
      "execution_count": null,
      "outputs": [
        {
          "output_type": "execute_result",
          "data": {
            "text/plain": [
              "58"
            ]
          },
          "metadata": {
            "tags": []
          },
          "execution_count": 93
        }
      ]
    },
    {
      "cell_type": "code",
      "metadata": {
        "id": "9-Atr-82Uo9G"
      },
      "source": [
        "import pandas as pd\n",
        "\n",
        "column = pd.DataFrame(columns=['項目名稱', '代幣價格', '市值排名', '7 日漲幅'])"
      ],
      "execution_count": null,
      "outputs": []
    },
    {
      "cell_type": "code",
      "metadata": {
        "id": "woVGXYydYNoH"
      },
      "source": [
        "token_list = ['ethereum', 'binancecoin', 'cardano', 'polkadot', 'solana', 'cosmos', 'avalanche-2', 'algorand', 'fantom', 'near', 'nervos-network']\n",
        "\n"
      ],
      "execution_count": null,
      "outputs": []
    },
    {
      "cell_type": "code",
      "metadata": {
        "id": "RVr3arHwZOXv"
      },
      "source": [
        "column.sort_values(by='7日漲幅', ascending=False)"
      ],
      "execution_count": null,
      "outputs": []
    },
    {
      "cell_type": "code",
      "metadata": {
        "id": "nbd5k823Z2ic"
      },
      "source": [
        "n_day = 5\n",
        "start = datetime.timedelta(days=n_day)\n",
        "begin = (datetime.datetime.now() - start).strftime(\"%d-%m-%Y\")\n",
        "end = datetime.datetime.now().strftime(\"%d-%m-%Y\")\n",
        "\n",
        "sbf = ['ftx-token', 'serum', 'sushi', 'solana', 'bonfida', 'maps', 'raydium']\n",
        "\n",
        "column = pd.DataFrame(columns=['項目名稱', '代幣價格', '市值排名', '5日漲幅'])\n",
        "\n",
        "for i in range(len(sbf)):\n",
        "  values = list()\n",
        "  values.append(sbf[i])\n",
        "  day30_price = cg.get_coin_history_by_id(id=sbf[i], date=end)['market_data']['current_price']['usd']\n",
        "  day1_price = cg.get_coin_history_by_id(id=sbf[i], date=begin)['market_data']['current_price']['usd']\n",
        "  pnl = (day30_price - day1_price)/day1_price * 100\n",
        "  market_cap_rank = cg.get_coin_by_id(sbf[i])['market_cap_rank']\n",
        "  values.append(round(day30_price, 2))\n",
        "  values.append(market_cap_rank)\n",
        "  values.append(round(pnl, 2))\n",
        "  column.loc[i] = values"
      ],
      "execution_count": null,
      "outputs": []
    },
    {
      "cell_type": "code",
      "metadata": {
        "colab": {
          "base_uri": "https://localhost:8080/",
          "height": 266
        },
        "id": "qd2EOa3BjWW-",
        "outputId": "3110a3d6-fd4c-4633-9a69-1affe0134204"
      },
      "source": [
        "column.sort_values(by='5日漲幅', ascending=False)"
      ],
      "execution_count": null,
      "outputs": [
        {
          "output_type": "execute_result",
          "data": {
            "text/html": [
              "<div>\n",
              "<style scoped>\n",
              "    .dataframe tbody tr th:only-of-type {\n",
              "        vertical-align: middle;\n",
              "    }\n",
              "\n",
              "    .dataframe tbody tr th {\n",
              "        vertical-align: top;\n",
              "    }\n",
              "\n",
              "    .dataframe thead th {\n",
              "        text-align: right;\n",
              "    }\n",
              "</style>\n",
              "<table border=\"1\" class=\"dataframe\">\n",
              "  <thead>\n",
              "    <tr style=\"text-align: right;\">\n",
              "      <th></th>\n",
              "      <th>項目名稱</th>\n",
              "      <th>代幣價格</th>\n",
              "      <th>市值排名</th>\n",
              "      <th>5日漲幅</th>\n",
              "    </tr>\n",
              "  </thead>\n",
              "  <tbody>\n",
              "    <tr>\n",
              "      <th>0</th>\n",
              "      <td>ftx-token</td>\n",
              "      <td>39.87</td>\n",
              "      <td>32</td>\n",
              "      <td>-2.04</td>\n",
              "    </tr>\n",
              "    <tr>\n",
              "      <th>3</th>\n",
              "      <td>solana</td>\n",
              "      <td>14.27</td>\n",
              "      <td>29</td>\n",
              "      <td>-6.85</td>\n",
              "    </tr>\n",
              "    <tr>\n",
              "      <th>5</th>\n",
              "      <td>maps</td>\n",
              "      <td>1.08</td>\n",
              "      <td>380</td>\n",
              "      <td>-8.50</td>\n",
              "    </tr>\n",
              "    <tr>\n",
              "      <th>4</th>\n",
              "      <td>bonfida</td>\n",
              "      <td>1.72</td>\n",
              "      <td>487</td>\n",
              "      <td>-11.42</td>\n",
              "    </tr>\n",
              "    <tr>\n",
              "      <th>2</th>\n",
              "      <td>sushi</td>\n",
              "      <td>19.78</td>\n",
              "      <td>41</td>\n",
              "      <td>-14.20</td>\n",
              "    </tr>\n",
              "    <tr>\n",
              "      <th>1</th>\n",
              "      <td>serum</td>\n",
              "      <td>5.22</td>\n",
              "      <td>185</td>\n",
              "      <td>-14.31</td>\n",
              "    </tr>\n",
              "    <tr>\n",
              "      <th>6</th>\n",
              "      <td>raydium</td>\n",
              "      <td>9.22</td>\n",
              "      <td>217</td>\n",
              "      <td>-17.42</td>\n",
              "    </tr>\n",
              "  </tbody>\n",
              "</table>\n",
              "</div>"
            ],
            "text/plain": [
              "        項目名稱   代幣價格 市值排名   5日漲幅\n",
              "0  ftx-token  39.87   32  -2.04\n",
              "3     solana  14.27   29  -6.85\n",
              "5       maps   1.08  380  -8.50\n",
              "4    bonfida   1.72  487 -11.42\n",
              "2      sushi  19.78   41 -14.20\n",
              "1      serum   5.22  185 -14.31\n",
              "6    raydium   9.22  217 -17.42"
            ]
          },
          "metadata": {
            "tags": []
          },
          "execution_count": 8
        }
      ]
    },
    {
      "cell_type": "code",
      "metadata": {
        "id": "wYIGM5sojZPl"
      },
      "source": [
        ""
      ],
      "execution_count": null,
      "outputs": []
    }
  ]
}